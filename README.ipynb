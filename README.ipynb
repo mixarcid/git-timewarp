{
 "cells": [
  {
   "cell_type": "markdown",
   "id": "440e5d3f-d601-4fa5-8aaa-ba37dcfbb4da",
   "metadata": {},
   "source": [
    "# git-timewarp\n",
    "\n",
    "Oftentimes it's neccessary to go back to a previous commit. Perhaps you broke sometime and want to see where, or perhaps you want to benchmark an old version of a function. It's easy to `git checkout`, but what if you want to use two different versions of a function _in the same script_? Or use your latest testing/benchmarking code to run your old function? Fear not! `git-timewarp` allows you to temporarily import modules from a specified commit, performing all the git magic under the hood.\n",
    "\n",
    "Here's how you use it. First, import the `GitTimeWarp` object. And the (current) version of a function you want to test."
   ]
  },
  {
   "cell_type": "code",
   "execution_count": 2,
   "id": "f65b62b0-82fa-4dff-9800-cdc444ac0bb2",
   "metadata": {},
   "outputs": [],
   "source": [
    "from git_timewarp import GitTimeWarp\n",
    "from test import test_func"
   ]
  },
  {
   "cell_type": "markdown",
   "id": "1103a073-f856-4463-8232-5806b007271e",
   "metadata": {},
   "source": [
    "Let's see the output of the current function"
   ]
  },
  {
   "cell_type": "code",
   "execution_count": 3,
   "id": "f35a2f80-4004-46c7-bfdf-52138e0f7de8",
   "metadata": {},
   "outputs": [
    {
     "name": "stdout",
     "output_type": "stream",
     "text": [
      "new function output\n"
     ]
    }
   ],
   "source": [
    "print(test_func())"
   ]
  },
  {
   "cell_type": "markdown",
   "id": "3cc12708-1e6c-465d-9074-3a0a1c6912dd",
   "metadata": {},
   "source": [
    "Great. But what was the output of that function at an earlier commit? By entering a `GitTimeWarp` object, we can time travel to discover what it was. All in the same script!"
   ]
  },
  {
   "cell_type": "code",
   "execution_count": 4,
   "id": "235d5163-c555-4c35-8135-32831856ea98",
   "metadata": {},
   "outputs": [
    {
     "name": "stdout",
     "output_type": "stream",
     "text": [
      "old function output\n"
     ]
    }
   ],
   "source": [
    "with GitTimeWarp(\"a704acc5f651331645ee5850ff1cda0539cc23df\") as tw:\n",
    "    from test import test_func\n",
    "    print(test_func())"
   ]
  },
  {
   "cell_type": "markdown",
   "id": "845ff251-506e-4cb0-9b01-1a5b0111673c",
   "metadata": {},
   "source": [
    "Zounds! A ghost has appeared!\n",
    "\n",
    "How does this work, you ask? The `GitTimeWarp` object simply checks out the old code in the `timewarps/` folder (remember to add to your `.gitignore`!). It then modifies `sys.path` and does some more spicy python magic to ensure all imports in the block will reference the code in this other folder."
   ]
  }
 ],
 "metadata": {
  "kernelspec": {
   "display_name": "Python 3 (ipykernel)",
   "language": "python",
   "name": "python3"
  },
  "language_info": {
   "codemirror_mode": {
    "name": "ipython",
    "version": 3
   },
   "file_extension": ".py",
   "mimetype": "text/x-python",
   "name": "python",
   "nbconvert_exporter": "python",
   "pygments_lexer": "ipython3",
   "version": "3.8.5"
  }
 },
 "nbformat": 4,
 "nbformat_minor": 5
}
