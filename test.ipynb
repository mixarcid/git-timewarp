{
 "cells": [
  {
   "cell_type": "code",
   "execution_count": 1,
   "id": "f65b62b0-82fa-4dff-9800-cdc444ac0bb2",
   "metadata": {},
   "outputs": [],
   "source": [
    "import shutil\n",
    "from git_timewarp import GitTimeWarp\n",
    "from test import test_func"
   ]
  },
  {
   "cell_type": "code",
   "execution_count": 2,
   "id": "f35a2f80-4004-46c7-bfdf-52138e0f7de8",
   "metadata": {},
   "outputs": [
    {
     "name": "stdout",
     "output_type": "stream",
     "text": [
      "new function output\n"
     ]
    }
   ],
   "source": [
    "print(test_func())"
   ]
  },
  {
   "cell_type": "code",
   "execution_count": 3,
   "id": "3309ca1f-8da5-4786-9c7a-75ad9572d854",
   "metadata": {},
   "outputs": [],
   "source": [
    "try:\n",
    "    shutil.rmtree(\"timewarps\")\n",
    "except FileNotFoundError:\n",
    "    pass"
   ]
  },
  {
   "cell_type": "code",
   "execution_count": 4,
   "id": "235d5163-c555-4c35-8135-32831856ea98",
   "metadata": {},
   "outputs": [
    {
     "name": "stdout",
     "output_type": "stream",
     "text": [
      "cloning https://github.com/mixarcid/git-timewarp to timewarps/commit_a704acc5f651331645ee5850ff1cda0539cc23df\n",
      "checking out a704acc5f651331645ee5850ff1cda0539cc23df\n",
      "old function output\n"
     ]
    }
   ],
   "source": [
    "with GitTimeWarp(\"a704acc5f651331645ee5850ff1cda0539cc23df\", False) as tw:\n",
    "    from test import test_func\n",
    "    print(test_func())"
   ]
  }
 ],
 "metadata": {
  "kernelspec": {
   "display_name": "Python 3 (ipykernel)",
   "language": "python",
   "name": "python3"
  },
  "language_info": {
   "codemirror_mode": {
    "name": "ipython",
    "version": 3
   },
   "file_extension": ".py",
   "mimetype": "text/x-python",
   "name": "python",
   "nbconvert_exporter": "python",
   "pygments_lexer": "ipython3",
   "version": "3.8.5"
  }
 },
 "nbformat": 4,
 "nbformat_minor": 5
}
